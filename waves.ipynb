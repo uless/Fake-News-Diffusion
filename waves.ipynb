{
  "nbformat": 4,
  "nbformat_minor": 0,
  "metadata": {
    "colab": {
      "name": "waves.ipynb",
      "provenance": [],
      "authorship_tag": "ABX9TyMkPFzBklyRoTl3WdiHOYAp",
      "include_colab_link": true
    },
    "kernelspec": {
      "name": "python3",
      "display_name": "Python 3"
    },
    "language_info": {
      "name": "python"
    }
  },
  "cells": [
    {
      "cell_type": "markdown",
      "metadata": {
        "id": "view-in-github",
        "colab_type": "text"
      },
      "source": [
        "<a href=\"https://colab.research.google.com/github/uless/Fake-News-Diffusion/blob/master/waves.ipynb\" target=\"_parent\"><img src=\"https://colab.research.google.com/assets/colab-badge.svg\" alt=\"Open In Colab\"/></a>"
      ]
    },
    {
      "cell_type": "markdown",
      "metadata": {
        "id": "8L_NQod3rMd6"
      },
      "source": [
        "# Preparation"
      ]
    },
    {
      "cell_type": "code",
      "metadata": {
        "id": "h2c8jbpyLxFY"
      },
      "source": [
        "!pip install unidecode\n",
        "!pip install py2neo"
      ],
      "execution_count": null,
      "outputs": []
    },
    {
      "cell_type": "code",
      "metadata": {
        "id": "VRmMhubsLJ8S"
      },
      "source": [
        "import os\n",
        "import pandas as pd\n",
        "from pathlib import Path\n",
        "from py2neo import Graph\n",
        "import time\n",
        "import unidecode\n",
        "import difflib\n",
        "from functools import reduce\n",
        "from google.colab import files"
      ],
      "execution_count": 2,
      "outputs": []
    },
    {
      "cell_type": "code",
      "metadata": {
        "id": "CFCiIyXZLR72"
      },
      "source": [
        "pd.options.display.max_rows = None  # display all rows\n",
        "pd.options.display.max_columns = None  # display all columsns"
      ],
      "execution_count": 3,
      "outputs": []
    },
    {
      "cell_type": "code",
      "metadata": {
        "id": "PJ0907EPMLo_"
      },
      "source": [
        "graph = Graph(\"bolt://132.249.238.185:7687\", user=\"reader\", password=\"demo\")"
      ],
      "execution_count": 4,
      "outputs": []
    },
    {
      "cell_type": "code",
      "metadata": {
        "id": "NhwVq57kVnbA"
      },
      "source": [
        "df = pd.read_excel(\"COVID_zipcodes.xlsx\", index_col=0)"
      ],
      "execution_count": 5,
      "outputs": []
    },
    {
      "cell_type": "code",
      "metadata": {
        "colab": {
          "base_uri": "https://localhost:8080/",
          "height": 340
        },
        "id": "O4SY9pf1ju5a",
        "outputId": "f2efbb1b-b9dd-4e98-b309-e65da4499865"
      },
      "source": [
        "df.head()"
      ],
      "execution_count": 6,
      "outputs": [
        {
          "output_type": "execute_result",
          "data": {
            "text/html": [
              "<div>\n",
              "<style scoped>\n",
              "    .dataframe tbody tr th:only-of-type {\n",
              "        vertical-align: middle;\n",
              "    }\n",
              "\n",
              "    .dataframe tbody tr th {\n",
              "        vertical-align: top;\n",
              "    }\n",
              "\n",
              "    .dataframe thead th {\n",
              "        text-align: right;\n",
              "    }\n",
              "</style>\n",
              "<table border=\"1\" class=\"dataframe\">\n",
              "  <thead>\n",
              "    <tr style=\"text-align: right;\">\n",
              "      <th></th>\n",
              "      <th>90pctplus_Counties</th>\n",
              "      <th>75pctplus_Counties</th>\n",
              "      <th>S1_ZipCode</th>\n",
              "      <th>S2_County_self_report</th>\n",
              "      <th>COVID_waves1to3_zipcodefocused__S1_ZipCode</th>\n",
              "      <th>state</th>\n",
              "      <th>county</th>\n",
              "      <th>resRatio</th>\n",
              "      <th>placeName</th>\n",
              "      <th>code</th>\n",
              "      <th>population</th>\n",
              "    </tr>\n",
              "    <tr>\n",
              "      <th>PROLIFIC_PID</th>\n",
              "      <th></th>\n",
              "      <th></th>\n",
              "      <th></th>\n",
              "      <th></th>\n",
              "      <th></th>\n",
              "      <th></th>\n",
              "      <th></th>\n",
              "      <th></th>\n",
              "      <th></th>\n",
              "      <th></th>\n",
              "      <th></th>\n",
              "    </tr>\n",
              "  </thead>\n",
              "  <tbody>\n",
              "    <tr>\n",
              "      <th>55a55bd7fdf99b790558627c</th>\n",
              "      <td>Hampden County</td>\n",
              "      <td>Hampden County</td>\n",
              "      <td>01001</td>\n",
              "      <td>hampden</td>\n",
              "      <td>1001</td>\n",
              "      <td>Massachusetts</td>\n",
              "      <td>Hampden County</td>\n",
              "      <td>1.0</td>\n",
              "      <td>Agawam</td>\n",
              "      <td>MA</td>\n",
              "      <td>469116.0</td>\n",
              "    </tr>\n",
              "    <tr>\n",
              "      <th>55f9df5f4f5140000e296836</th>\n",
              "      <td>Hampden County</td>\n",
              "      <td>Hampden County</td>\n",
              "      <td>01040</td>\n",
              "      <td>United States</td>\n",
              "      <td>1040</td>\n",
              "      <td>Massachusetts</td>\n",
              "      <td>Hampden County</td>\n",
              "      <td>1.0</td>\n",
              "      <td>Holyoke</td>\n",
              "      <td>MA</td>\n",
              "      <td>469116.0</td>\n",
              "    </tr>\n",
              "    <tr>\n",
              "      <th>5c7489824f23e50015134f02</th>\n",
              "      <td>Hampshire County</td>\n",
              "      <td>Hampshire County</td>\n",
              "      <td>1060</td>\n",
              "      <td>US</td>\n",
              "      <td>1060</td>\n",
              "      <td>Massachusetts</td>\n",
              "      <td>Hampshire County</td>\n",
              "      <td>1.0</td>\n",
              "      <td>Northampton</td>\n",
              "      <td>MA</td>\n",
              "      <td>161159.0</td>\n",
              "    </tr>\n",
              "    <tr>\n",
              "      <th>5dc091fa9be08f03fb01a816</th>\n",
              "      <td>Hampden County</td>\n",
              "      <td>Hampden County</td>\n",
              "      <td>1089</td>\n",
              "      <td>Hampden</td>\n",
              "      <td>1089</td>\n",
              "      <td>Massachusetts</td>\n",
              "      <td>Hampden County</td>\n",
              "      <td>1.0</td>\n",
              "      <td>West Springfield</td>\n",
              "      <td>MA</td>\n",
              "      <td>469116.0</td>\n",
              "    </tr>\n",
              "    <tr>\n",
              "      <th>5e2298499138e055cfd97ae0</th>\n",
              "      <td>Hampden County</td>\n",
              "      <td>Hampden County</td>\n",
              "      <td>1108</td>\n",
              "      <td>HAMPDEN</td>\n",
              "      <td>1108</td>\n",
              "      <td>Massachusetts</td>\n",
              "      <td>Hampden County</td>\n",
              "      <td>1.0</td>\n",
              "      <td>Springfield</td>\n",
              "      <td>MA</td>\n",
              "      <td>469116.0</td>\n",
              "    </tr>\n",
              "  </tbody>\n",
              "</table>\n",
              "</div>"
            ],
            "text/plain": [
              "                         90pctplus_Counties 75pctplus_Counties S1_ZipCode  \\\n",
              "PROLIFIC_PID                                                                \n",
              "55a55bd7fdf99b790558627c     Hampden County     Hampden County      01001   \n",
              "55f9df5f4f5140000e296836     Hampden County     Hampden County      01040   \n",
              "5c7489824f23e50015134f02   Hampshire County   Hampshire County       1060   \n",
              "5dc091fa9be08f03fb01a816     Hampden County     Hampden County       1089   \n",
              "5e2298499138e055cfd97ae0     Hampden County     Hampden County       1108   \n",
              "\n",
              "                         S2_County_self_report  \\\n",
              "PROLIFIC_PID                                     \n",
              "55a55bd7fdf99b790558627c               hampden   \n",
              "55f9df5f4f5140000e296836         United States   \n",
              "5c7489824f23e50015134f02                    US   \n",
              "5dc091fa9be08f03fb01a816               Hampden   \n",
              "5e2298499138e055cfd97ae0               HAMPDEN   \n",
              "\n",
              "                          COVID_waves1to3_zipcodefocused__S1_ZipCode  \\\n",
              "PROLIFIC_PID                                                           \n",
              "55a55bd7fdf99b790558627c                                        1001   \n",
              "55f9df5f4f5140000e296836                                        1040   \n",
              "5c7489824f23e50015134f02                                        1060   \n",
              "5dc091fa9be08f03fb01a816                                        1089   \n",
              "5e2298499138e055cfd97ae0                                        1108   \n",
              "\n",
              "                                  state            county  resRatio  \\\n",
              "PROLIFIC_PID                                                          \n",
              "55a55bd7fdf99b790558627c  Massachusetts    Hampden County       1.0   \n",
              "55f9df5f4f5140000e296836  Massachusetts    Hampden County       1.0   \n",
              "5c7489824f23e50015134f02  Massachusetts  Hampshire County       1.0   \n",
              "5dc091fa9be08f03fb01a816  Massachusetts    Hampden County       1.0   \n",
              "5e2298499138e055cfd97ae0  Massachusetts    Hampden County       1.0   \n",
              "\n",
              "                                 placeName code  population  \n",
              "PROLIFIC_PID                                                 \n",
              "55a55bd7fdf99b790558627c            Agawam   MA    469116.0  \n",
              "55f9df5f4f5140000e296836           Holyoke   MA    469116.0  \n",
              "5c7489824f23e50015134f02       Northampton   MA    161159.0  \n",
              "5dc091fa9be08f03fb01a816  West Springfield   MA    469116.0  \n",
              "5e2298499138e055cfd97ae0       Springfield   MA    469116.0  "
            ]
          },
          "metadata": {
            "tags": []
          },
          "execution_count": 6
        }
      ]
    },
    {
      "cell_type": "code",
      "metadata": {
        "id": "yh5puTc-n5P3"
      },
      "source": [
        "df = df.astype({\"S1_ZipCode\": str})\n",
        "df['S1_ZipCode'] = df['S1_ZipCode'].apply(lambda x: x if len(x) != 4 else '0' + x)"
      ],
      "execution_count": 7,
      "outputs": []
    },
    {
      "cell_type": "code",
      "metadata": {
        "colab": {
          "base_uri": "https://localhost:8080/",
          "height": 340
        },
        "id": "h5tbpWNNokRR",
        "outputId": "98c29970-8f9b-4a9b-feed-0bcdf3737002"
      },
      "source": [
        "df.head()"
      ],
      "execution_count": 9,
      "outputs": [
        {
          "output_type": "execute_result",
          "data": {
            "text/html": [
              "<div>\n",
              "<style scoped>\n",
              "    .dataframe tbody tr th:only-of-type {\n",
              "        vertical-align: middle;\n",
              "    }\n",
              "\n",
              "    .dataframe tbody tr th {\n",
              "        vertical-align: top;\n",
              "    }\n",
              "\n",
              "    .dataframe thead th {\n",
              "        text-align: right;\n",
              "    }\n",
              "</style>\n",
              "<table border=\"1\" class=\"dataframe\">\n",
              "  <thead>\n",
              "    <tr style=\"text-align: right;\">\n",
              "      <th></th>\n",
              "      <th>90pctplus_Counties</th>\n",
              "      <th>75pctplus_Counties</th>\n",
              "      <th>S1_ZipCode</th>\n",
              "      <th>S2_County_self_report</th>\n",
              "      <th>COVID_waves1to3_zipcodefocused__S1_ZipCode</th>\n",
              "      <th>state</th>\n",
              "      <th>county</th>\n",
              "      <th>resRatio</th>\n",
              "      <th>placeName</th>\n",
              "      <th>code</th>\n",
              "      <th>population</th>\n",
              "    </tr>\n",
              "    <tr>\n",
              "      <th>PROLIFIC_PID</th>\n",
              "      <th></th>\n",
              "      <th></th>\n",
              "      <th></th>\n",
              "      <th></th>\n",
              "      <th></th>\n",
              "      <th></th>\n",
              "      <th></th>\n",
              "      <th></th>\n",
              "      <th></th>\n",
              "      <th></th>\n",
              "      <th></th>\n",
              "    </tr>\n",
              "  </thead>\n",
              "  <tbody>\n",
              "    <tr>\n",
              "      <th>55a55bd7fdf99b790558627c</th>\n",
              "      <td>Hampden County</td>\n",
              "      <td>Hampden County</td>\n",
              "      <td>01001</td>\n",
              "      <td>hampden</td>\n",
              "      <td>1001</td>\n",
              "      <td>Massachusetts</td>\n",
              "      <td>Hampden County</td>\n",
              "      <td>1.0</td>\n",
              "      <td>Agawam</td>\n",
              "      <td>MA</td>\n",
              "      <td>469116.0</td>\n",
              "    </tr>\n",
              "    <tr>\n",
              "      <th>55f9df5f4f5140000e296836</th>\n",
              "      <td>Hampden County</td>\n",
              "      <td>Hampden County</td>\n",
              "      <td>01040</td>\n",
              "      <td>United States</td>\n",
              "      <td>1040</td>\n",
              "      <td>Massachusetts</td>\n",
              "      <td>Hampden County</td>\n",
              "      <td>1.0</td>\n",
              "      <td>Holyoke</td>\n",
              "      <td>MA</td>\n",
              "      <td>469116.0</td>\n",
              "    </tr>\n",
              "    <tr>\n",
              "      <th>5c7489824f23e50015134f02</th>\n",
              "      <td>Hampshire County</td>\n",
              "      <td>Hampshire County</td>\n",
              "      <td>01060</td>\n",
              "      <td>US</td>\n",
              "      <td>1060</td>\n",
              "      <td>Massachusetts</td>\n",
              "      <td>Hampshire County</td>\n",
              "      <td>1.0</td>\n",
              "      <td>Northampton</td>\n",
              "      <td>MA</td>\n",
              "      <td>161159.0</td>\n",
              "    </tr>\n",
              "    <tr>\n",
              "      <th>5dc091fa9be08f03fb01a816</th>\n",
              "      <td>Hampden County</td>\n",
              "      <td>Hampden County</td>\n",
              "      <td>01089</td>\n",
              "      <td>Hampden</td>\n",
              "      <td>1089</td>\n",
              "      <td>Massachusetts</td>\n",
              "      <td>Hampden County</td>\n",
              "      <td>1.0</td>\n",
              "      <td>West Springfield</td>\n",
              "      <td>MA</td>\n",
              "      <td>469116.0</td>\n",
              "    </tr>\n",
              "    <tr>\n",
              "      <th>5e2298499138e055cfd97ae0</th>\n",
              "      <td>Hampden County</td>\n",
              "      <td>Hampden County</td>\n",
              "      <td>01108</td>\n",
              "      <td>HAMPDEN</td>\n",
              "      <td>1108</td>\n",
              "      <td>Massachusetts</td>\n",
              "      <td>Hampden County</td>\n",
              "      <td>1.0</td>\n",
              "      <td>Springfield</td>\n",
              "      <td>MA</td>\n",
              "      <td>469116.0</td>\n",
              "    </tr>\n",
              "  </tbody>\n",
              "</table>\n",
              "</div>"
            ],
            "text/plain": [
              "                         90pctplus_Counties 75pctplus_Counties S1_ZipCode  \\\n",
              "PROLIFIC_PID                                                                \n",
              "55a55bd7fdf99b790558627c     Hampden County     Hampden County      01001   \n",
              "55f9df5f4f5140000e296836     Hampden County     Hampden County      01040   \n",
              "5c7489824f23e50015134f02   Hampshire County   Hampshire County      01060   \n",
              "5dc091fa9be08f03fb01a816     Hampden County     Hampden County      01089   \n",
              "5e2298499138e055cfd97ae0     Hampden County     Hampden County      01108   \n",
              "\n",
              "                         S2_County_self_report  \\\n",
              "PROLIFIC_PID                                     \n",
              "55a55bd7fdf99b790558627c               hampden   \n",
              "55f9df5f4f5140000e296836         United States   \n",
              "5c7489824f23e50015134f02                    US   \n",
              "5dc091fa9be08f03fb01a816               Hampden   \n",
              "5e2298499138e055cfd97ae0               HAMPDEN   \n",
              "\n",
              "                          COVID_waves1to3_zipcodefocused__S1_ZipCode  \\\n",
              "PROLIFIC_PID                                                           \n",
              "55a55bd7fdf99b790558627c                                        1001   \n",
              "55f9df5f4f5140000e296836                                        1040   \n",
              "5c7489824f23e50015134f02                                        1060   \n",
              "5dc091fa9be08f03fb01a816                                        1089   \n",
              "5e2298499138e055cfd97ae0                                        1108   \n",
              "\n",
              "                                  state            county  resRatio  \\\n",
              "PROLIFIC_PID                                                          \n",
              "55a55bd7fdf99b790558627c  Massachusetts    Hampden County       1.0   \n",
              "55f9df5f4f5140000e296836  Massachusetts    Hampden County       1.0   \n",
              "5c7489824f23e50015134f02  Massachusetts  Hampshire County       1.0   \n",
              "5dc091fa9be08f03fb01a816  Massachusetts    Hampden County       1.0   \n",
              "5e2298499138e055cfd97ae0  Massachusetts    Hampden County       1.0   \n",
              "\n",
              "                                 placeName code  population  \n",
              "PROLIFIC_PID                                                 \n",
              "55a55bd7fdf99b790558627c            Agawam   MA    469116.0  \n",
              "55f9df5f4f5140000e296836           Holyoke   MA    469116.0  \n",
              "5c7489824f23e50015134f02       Northampton   MA    161159.0  \n",
              "5dc091fa9be08f03fb01a816  West Springfield   MA    469116.0  \n",
              "5e2298499138e055cfd97ae0       Springfield   MA    469116.0  "
            ]
          },
          "metadata": {
            "tags": []
          },
          "execution_count": 9
        }
      ]
    },
    {
      "cell_type": "code",
      "metadata": {
        "id": "pSAwsxa1o9l0"
      },
      "source": [
        "df_zip = df.query(\"S1_ZipCode != ' '\").copy()\n",
        "df_zip['S1_ZipCode'] = df_zip['S1_ZipCode'].astype(int)"
      ],
      "execution_count": 12,
      "outputs": []
    },
    {
      "cell_type": "code",
      "metadata": {
        "colab": {
          "base_uri": "https://localhost:8080/"
        },
        "id": "7-vHpnOao_hq",
        "outputId": "1d7443f4-866e-4ff9-8f7f-1a2a60ff4efc"
      },
      "source": [
        "zip_unique = df_zip['S1_ZipCode'].unique()\n",
        "len(zip_unique)"
      ],
      "execution_count": 13,
      "outputs": [
        {
          "output_type": "execute_result",
          "data": {
            "text/plain": [
              "1752"
            ]
          },
          "metadata": {
            "tags": []
          },
          "execution_count": 13
        }
      ]
    },
    {
      "cell_type": "code",
      "metadata": {
        "id": "UWjdZO-WpFJf"
      },
      "source": [
        "df.drop_duplicates(inplace=True)"
      ],
      "execution_count": 14,
      "outputs": []
    },
    {
      "cell_type": "markdown",
      "metadata": {
        "id": "qqAYaZrDrRJa"
      },
      "source": [
        "# Wave 1 Data"
      ]
    },
    {
      "cell_type": "code",
      "metadata": {
        "id": "KJWD1PQK_ZYa"
      },
      "source": [
        "query = \"\"\"\n",
        "MATCH (p:PostalCode{name:$zip_code})-[i:IN]->(a2:Admin2)-[:IN]->(a1:Admin1),\n",
        "      (a2)<-[:REPORTED_IN]-(c:Cases{source:'JHU'}),\n",
        "      (a2)-[:HAS_DEMOGRAPHICS]->(d:Demographics{aggregationLevel: 'Admin2'}) \n",
        "      \n",
        "WHERE c.date >= date($startDate) AND c.date <= date($endDate)\n",
        "      \n",
        "RETURN  a1.name AS state, a2.name AS county, i.resRatio AS resRatio, p.placeName AS placeName, a1.code AS code,\n",
        "       $zip_code AS S1_ZipCode,\n",
        "       d.totalPopulation as population, \n",
        "       c.date AS date,\n",
        "       c.cases AS cases, c.deaths AS deaths,\n",
        "       c.cases*100000.0/d.totalPopulation AS caseRate, \n",
        "       c.deaths*100000.0/d.totalPopulation AS deathRate\n",
        "\"\"\""
      ],
      "execution_count": 21,
      "outputs": []
    },
    {
      "cell_type": "code",
      "metadata": {
        "id": "RREb0U-6uXRa"
      },
      "source": [
        "data_W1= pd.concat((graph.run(query, zip_code=row.S1_ZipCode, \n",
        "                                              startDate='2020-01-31', endDate='2020-03-09').to_data_frame() \n",
        "                                   for row in df.itertuples()))"
      ],
      "execution_count": 22,
      "outputs": []
    },
    {
      "cell_type": "code",
      "metadata": {
        "id": "gcWNbSJsykOQ"
      },
      "source": [
        "data_W2= pd.concat((graph.run(query, zip_code=row.S1_ZipCode, \n",
        "                                              startDate='2020-03-30', endDate='2020-05-06').to_data_frame() \n",
        "                                   for row in df.itertuples()))"
      ],
      "execution_count": 23,
      "outputs": []
    },
    {
      "cell_type": "code",
      "metadata": {
        "id": "A_n-t8hEyqCR"
      },
      "source": [
        "data_W3= pd.concat((graph.run(query, zip_code=row.S1_ZipCode, \n",
        "                                              startDate='2020-07-09', endDate='2020-08-13').to_data_frame() \n",
        "                                   for row in df.itertuples()))"
      ],
      "execution_count": 24,
      "outputs": []
    },
    {
      "cell_type": "code",
      "metadata": {
        "id": "_YojFwKjyv54"
      },
      "source": [
        "data_W4= pd.concat((graph.run(query, zip_code=row.S1_ZipCode, \n",
        "                                              startDate='2020-09-14', endDate='2020-10-21').to_data_frame() \n",
        "                                   for row in df.itertuples()))"
      ],
      "execution_count": 25,
      "outputs": []
    },
    {
      "cell_type": "code",
      "metadata": {
        "id": "loaVuugsy1kG"
      },
      "source": [
        "data_W5= pd.concat((graph.run(query, zip_code=row.S1_ZipCode, \n",
        "                                              startDate='2020-12-25', endDate='2021-02-11').to_data_frame() \n",
        "                                   for row in df.itertuples()))"
      ],
      "execution_count": 26,
      "outputs": []
    },
    {
      "cell_type": "code",
      "metadata": {
        "id": "ZZtkAJnby6_H"
      },
      "source": [
        "data_W6= pd.concat((graph.run(query, zip_code=row.S1_ZipCode, \n",
        "                                              startDate='2021-02-25', endDate='2020-04-13').to_data_frame() \n",
        "                                   for row in df.itertuples()))"
      ],
      "execution_count": 27,
      "outputs": []
    },
    {
      "cell_type": "code",
      "metadata": {
        "id": "zpj8W00p0U-n"
      },
      "source": [
        "data_W1.to_csv(\"COVID_wave1_zipcodefocused.csv\", index=False)\n",
        "data_W2.to_csv(\"COVID_wave2_zipcodefocused.csv\", index=False)\n",
        "data_W6.to_csv(\"COVID_wave6_zipcodefocused.csv\", index=False)"
      ],
      "execution_count": 28,
      "outputs": []
    },
    {
      "cell_type": "code",
      "metadata": {
        "id": "OxppfSU887B3"
      },
      "source": [
        "data_W3.to_csv(\"COVID_wave3_zipcodefocused.csv\", index=False)\n",
        "data_W4.to_csv(\"COVID_wave4_zipcodefocused.csv\", index=False)\n",
        "data_W5.to_csv(\"COVID_wave5_zipcodefocused.csv\", index=False)"
      ],
      "execution_count": 32,
      "outputs": []
    },
    {
      "cell_type": "code",
      "metadata": {
        "id": "z7TnAn9F8lfF"
      },
      "source": [
        "files.download(\"COVID_wave2_zipcodefocused.csv\") "
      ],
      "execution_count": null,
      "outputs": []
    },
    {
      "cell_type": "code",
      "metadata": {
        "id": "AcSERm007V96"
      },
      "source": [
        "data_W2.to_csv(\"COVID_wave2_zipcodefocused.csv\", index=False)"
      ],
      "execution_count": 29,
      "outputs": []
    },
    {
      "cell_type": "code",
      "metadata": {
        "id": "TYc1IT2d1FVs"
      },
      "source": [
        "data_W1 = data_W1.sort_values(by=[\"S1_ZipCode\", \"county\",\"date\"])\n",
        "data_W1['cases_diff'] = data_W1.groupby(['S1_ZipCode', 'country'])['cases'].diff().fillna(0)\n",
        "data_W1['deaths_diff'] = data_W1.groupby(['S1_ZipCode', 'country'])['deaths'].diff().fillna(0)\n",
        "data_W1['caseRate_diff'] = data_W1.groupby(['S1_ZipCode', 'country'])['caseRate'].diff().fillna(0)\n",
        "data_W1['deathRate_diff'] = data_W1.groupby(['S1_ZipCode', 'country'])['deathRate'].diff().fillna(0)"
      ],
      "execution_count": null,
      "outputs": []
    }
  ]
}